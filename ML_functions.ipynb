{
 "cells": [
  {
   "cell_type": "code",
   "execution_count": null,
   "id": "2a7acc0a-0ce2-4004-916d-ab80713bdcd2",
   "metadata": {},
   "outputs": [],
   "source": [
    "### A CUSTOM BUILT FUNCTION THAT COMPUTES INFORMATION VALUE OF ALL PREDICTORS\n",
    "\n",
    "### This function takes as an argument the DATAFRAME, the TARGET VARIABLE NAME and the PREDICTOR VARIABLE NAME\n",
    "### after inputting these values, the function would output the INFORMATION VALUE of the predictor with respect to the target\n",
    "### this would give us a sense of how informative the variable would be prior to subjecting it to modeling. \n",
    "\n",
    "def iv(data, target, predictor):\n",
    "    \n",
    "    # for computing IV for interval variables, the interval variables first need to be BINNED\n",
    "    # that is what is happening here. We are creating BINNED versions of LOG TRANSFORMS of an interval variable\n",
    "    \n",
    "    if predictor in list(set(list(data.columns)) - set(list(data.select_dtypes(include=['int', 'float']).columns))):\n",
    "        d = pd.DataFrame([df[target], df[predictor]]).T\n",
    "    elif predictor in list(df.select_dtypes(include=['int', 'float']).columns):\n",
    "        bc = pd.qcut(np.log10(df[predictor]+3), q=6, labels=list(range(6)))\n",
    "        d = pd.DataFrame([df[target], bc]).T\n",
    "        \n",
    "    # count the total number of GOODS (response = 1) and BADS (response = 0)\n",
    "    bads = d[d[target]==0][target].count()\n",
    "    goods = d[d[target]==1][target].count()\n",
    "    \n",
    "    g = pd.Series(d[d[target]==1][predictor].value_counts(), name='yes')\n",
    "    g = g/goods\n",
    "    \n",
    "    b = pd.Series(d[d[target]==0][predictor].value_counts(), name='no')\n",
    "    b = b/bads\n",
    "    dd = pd.DataFrame([g, b]).T\n",
    "    \n",
    "    # apply the IV mathematical formula and return as output\n",
    "    IV = (dd['yes'] - dd['no'])*np.log10(dd['yes']/dd['no'])\n",
    "    return IV.sum()"
   ]
  },
  {
   "cell_type": "code",
   "execution_count": null,
   "id": "e17159b8-b297-4a96-805b-a5a0b4213739",
   "metadata": {},
   "outputs": [],
   "source": [
    "# how to call the IV function: enter as arguments the DATAFRAME, the TARGET COLUMN NAME in QUOTES, the PREDICTOR variable\n",
    "# for which you want to compute the IV.\n",
    "\n",
    "infoval = iv(df, 'Target', pred)"
   ]
  },
  {
   "cell_type": "code",
   "execution_count": null,
   "id": "ce466d9d-abfe-47da-b207-9311e4cf167b",
   "metadata": {},
   "outputs": [],
   "source": [
    "############################\n",
    "############################\n",
    "############################"
   ]
  },
  {
   "cell_type": "code",
   "execution_count": null,
   "id": "61e62222-1e43-4d03-beae-405c0f34afb4",
   "metadata": {},
   "outputs": [],
   "source": [
    "### THIS FUNCTION IDENTIFIES ALL CATEGORICAL COLUMNS AND COMPUTES AND JOINS THEIR DUMMY ENCODED MATRICES\n",
    "### ADDITIONALLY IT ALSO STANDARDIZES THE NUMERICAL VARIABLES AND COMPILES A FINAL DATASET\n",
    "\n",
    "### This function takes as argument the input DATAFRAME and the TARGET COLUMN NAME\n",
    "### it would then automatically identify the CATEGORICAL columns and NUMERICAL columns in your predictors\n",
    "### after this, it would DUMMY ENCODE the categorical columns and STANDARD NORMALIZE all the interval predictors\n",
    "\n",
    "### as an output, it gives out the FINAL combined dataframe of all the transformed predictors separately\n",
    "### and it also outputs the target variable column as a separate SERIES. \n",
    "\n",
    "### both these separate entities can be readily passed on to any algorithm for modeling\n",
    "\n",
    "def final_frame(xx, target):\n",
    "    \n",
    "    X = xx.copy()\n",
    "    cat_cols = list(set(list(X.columns)) - set(list(X.select_dtypes(include=['int', 'float']).columns)))\n",
    "    q_cols = list(X.select_dtypes(include=['int', 'float']).columns)\n",
    "    cat_cols.remove(target)\n",
    "    initialized = cat_cols[0]\n",
    "    cat_cols.remove(initialized)\n",
    "    frame = pd.get_dummies(X[initialized], drop_first=True)\n",
    "    \n",
    "    Y = X[target]\n",
    "    X.pop(target)\n",
    "\n",
    "    # this loop makes dummy columns from each categorical variable in the data\n",
    "    for column in list(X.columns):\n",
    "        if column in cat_cols:\n",
    "            frame = frame.join(pd.get_dummies(X[column], drop_first=True))\n",
    "        else:\n",
    "            pass\n",
    "        \n",
    "    # this look standard normalizes each of the numerical columns in the data    \n",
    "    Qcols = []\n",
    "    for col in q_cols:\n",
    "        X[col] = (X[col] - X[col].mean())/X[col].std()\n",
    "    \n",
    "    frame2 = X[q_cols]\n",
    "    finalframe = pd.concat([frame2, frame], axis=1)\n",
    "    \n",
    "    # the return value is a DATAFRAME for all the predictors (dummy encoded and transformed) AND a SERIES for target variable\n",
    "    return finalframe, Y"
   ]
  },
  {
   "cell_type": "code",
   "execution_count": null,
   "id": "90f50b88-ce52-48d2-bf6f-665932bb9083",
   "metadata": {},
   "outputs": [],
   "source": [
    "# example function call - pass the DATAFRAME and TARGET VARIABLE NAME and get as outputs - \n",
    "# - DATAFRAME of transformed predictors and SERIES of target variable.\n",
    "\n",
    "x_data, y = final_frame(data, 'Target')"
   ]
  }
 ],
 "metadata": {
  "kernelspec": {
   "display_name": "Python 3",
   "language": "python",
   "name": "python3"
  },
  "language_info": {
   "codemirror_mode": {
    "name": "ipython",
    "version": 3
   },
   "file_extension": ".py",
   "mimetype": "text/x-python",
   "name": "python",
   "nbconvert_exporter": "python",
   "pygments_lexer": "ipython3",
   "version": "3.8.8"
  }
 },
 "nbformat": 4,
 "nbformat_minor": 5
}
