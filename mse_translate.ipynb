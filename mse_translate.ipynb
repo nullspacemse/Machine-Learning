{
 "cells": [
  {
   "cell_type": "code",
   "execution_count": 21,
   "metadata": {},
   "outputs": [],
   "source": [
    "word_maps = {'tu': 'you', 'kahan': 'where', 'hai': 'are', 'aaj': 'today', 'kal': 'tomorrow',\n",
    "             'padhai': 'study', 'kar': 'doing', 'khana': 'food', 'khaya': 'eaten', \n",
    "             'kaisa': 'how', 'kaisi': 'how', 'samajh': 'understand',\n",
    "             'aaya': 'did you', 'chal': 'lets go', 'khane': 'to eat', 'wahan': 'there',\n",
    "             'jana': 'going', 'nahi': 'not', 'haan': 'yes', 'mushkil': 'difficult',\n",
    "             'lag': 'feeling', 'aasaan': 'easy', 'raha': 'it is', 'mujhe': 'I am',\n",
    "             'neend': 'sleepy', 'kaam': 'work', 'kia': 'done', 'wo': 'that', 'ladka': 'boy',\n",
    "             'ladki': 'girl', 'acha': 'good', 'ganda': 'bad'}"
   ]
  },
  {
   "cell_type": "code",
   "execution_count": 22,
   "metadata": {},
   "outputs": [],
   "source": [
    "def sent_split(sentence):\n",
    "    tokens = sentence.split()\n",
    "    return tokens"
   ]
  },
  {
   "cell_type": "code",
   "execution_count": 34,
   "metadata": {},
   "outputs": [
    {
     "name": "stdin",
     "output_type": "stream",
     "text": [
      "say something... aaj nahi jana\n"
     ]
    }
   ],
   "source": [
    "sent_in = input('say something...')"
   ]
  },
  {
   "cell_type": "code",
   "execution_count": 35,
   "metadata": {},
   "outputs": [
    {
     "name": "stdout",
     "output_type": "stream",
     "text": [
      "you said:  aaj nahi jana\n",
      "====\n",
      "this translates to:  today not going\n"
     ]
    }
   ],
   "source": [
    "def translator(sentence):\n",
    "    eng_trans = []\n",
    "    for word in sent_split(sent_in):\n",
    "        if word in list(word_maps.keys()):\n",
    "            eng_trans.append(word_maps[word])\n",
    "        elif word in ['?', ',', '.']:\n",
    "            eng_trans.append(word)\n",
    "        else:\n",
    "            eng_trans.append(' ')\n",
    "    translated = ' '.join(eng_trans)\n",
    "    print(\"you said: \", sentence)\n",
    "    print(\"====\")\n",
    "    print(\"this translates to: \", translated)\n",
    "    \n",
    "translator(sent_in)"
   ]
  }
 ],
 "metadata": {
  "kernelspec": {
   "display_name": "Python 3",
   "language": "python",
   "name": "python3"
  },
  "language_info": {
   "codemirror_mode": {
    "name": "ipython",
    "version": 3
   },
   "file_extension": ".py",
   "mimetype": "text/x-python",
   "name": "python",
   "nbconvert_exporter": "python",
   "pygments_lexer": "ipython3",
   "version": "3.7.4"
  }
 },
 "nbformat": 4,
 "nbformat_minor": 4
}
