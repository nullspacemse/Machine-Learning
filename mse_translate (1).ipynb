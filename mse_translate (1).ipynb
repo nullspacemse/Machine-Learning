{
 "cells": [
  {
   "cell_type": "code",
   "execution_count": 2,
   "metadata": {},
   "outputs": [],
   "source": [
    "word_maps_hindi = {'tu': 'you', 'kahan': 'where', 'hai': 'are', 'aaj': 'today', 'kal': 'tomorrow',\n",
    "                   'padhai': 'study', 'kar': 'doing', 'khana': 'food', 'khaya': 'eaten', \n",
    "                   'kaisa': 'how', 'kaisi': 'how', 'samajh': 'understand',\n",
    "                   'aaya': 'did you', 'chal': 'lets go', 'khane': 'to eat', 'wahan': 'there',\n",
    "                   'jana': 'going', 'nahi': 'not', 'haan': 'yes', 'mushkil': 'difficult',\n",
    "                   'lag': 'feeling', 'aasaan': 'easy', 'raha': 'it is', 'mujhe': 'I am',\n",
    "                   'neend': 'sleepy', 'kaam': 'work', 'kia': 'done', 'wo': 'that', 'ladka': 'boy',\n",
    "                   'ladki': 'girl', 'acha': 'good', 'ganda': 'bad'}"
   ]
  },
  {
   "cell_type": "code",
   "execution_count": 3,
   "metadata": {},
   "outputs": [],
   "source": [
    "def sent_split(sentence):\n",
    "    tokens = sentence.split()\n",
    "    return tokens"
   ]
  },
  {
   "cell_type": "code",
   "execution_count": 6,
   "metadata": {},
   "outputs": [
    {
     "name": "stdin",
     "output_type": "stream",
     "text": [
      "say something... samajh aaya ?\n"
     ]
    }
   ],
   "source": [
    "sent_hin = input('say something...')"
   ]
  },
  {
   "cell_type": "code",
   "execution_count": 8,
   "metadata": {},
   "outputs": [
    {
     "name": "stdout",
     "output_type": "stream",
     "text": [
      "you said:  samajh aaya ?\n",
      "====\n",
      "this translates to:  understand did you ?\n"
     ]
    }
   ],
   "source": [
    "def translator_hiENG(sentence):\n",
    "    eng_trans = []\n",
    "    for word in sent_split(sent_hin):\n",
    "        if word in list(word_maps_hindi.keys()):\n",
    "            eng_trans.append(word_maps_hindi[word])\n",
    "        elif word in ['?', ',', '.']:\n",
    "            eng_trans.append(word)\n",
    "        else:\n",
    "            eng_trans.append(' ')\n",
    "    translated = ' '.join(eng_trans)\n",
    "    print(\"you said: \", sentence)\n",
    "    print(\"====\")\n",
    "    print(\"this translates to: \", translated)\n",
    "    \n",
    "translator_hiENG(sent_hin)"
   ]
  },
  {
   "cell_type": "code",
   "execution_count": null,
   "metadata": {},
   "outputs": [],
   "source": [
    "# from here from there are tamil, telugu and other mappings.\n",
    "\n",
    "word_maps_tamil = {'tamilword': 'englishword'}\n",
    "\n",
    "sent_tam = input('say something...')\n",
    "\n",
    "def translator_tamENG(sentence):\n",
    "    eng_trans = []\n",
    "    for word in sent_split(sent_tam):\n",
    "        if word in list(word_maps_tamil.keys()):\n",
    "            eng_trans.append(word_maps_tamil[word])\n",
    "        elif word in ['?', ',', '.']:\n",
    "            eng_trans.append(word)\n",
    "        else:\n",
    "            eng_trans.append(' ')\n",
    "    translated = ' '.join(eng_trans)\n",
    "    print(\"you said: \", sentence)\n",
    "    print(\"====\")\n",
    "    print(\"this translates to: \", translated)\n",
    "    \n",
    "translator_tamENG(sent_tam)"
   ]
  },
  {
   "cell_type": "code",
   "execution_count": null,
   "metadata": {},
   "outputs": [],
   "source": [
    "word_maps_beng = {'word': 'englishword'}\n",
    "\n",
    "sent_tam = input('say something...')\n",
    "\n",
    "def translator_tamENG(sentence):\n",
    "    eng_trans = []\n",
    "    for word in sent_split(sent_tam):\n",
    "        if word in list(word_maps_tamil.keys()):\n",
    "            eng_trans.append(word_maps_tamil[word])\n",
    "        elif word in ['?', ',', '.']:\n",
    "            eng_trans.append(word)\n",
    "        else:\n",
    "            eng_trans.append(' ')\n",
    "    translated = ' '.join(eng_trans)\n",
    "    print(\"you said: \", sentence)\n",
    "    print(\"====\")\n",
    "    print(\"this translates to: \", translated)\n",
    "    \n",
    "translator_tamENG(sent_tam)"
   ]
  }
 ],
 "metadata": {
  "kernelspec": {
   "display_name": "Python 3",
   "language": "python",
   "name": "python3"
  },
  "language_info": {
   "codemirror_mode": {
    "name": "ipython",
    "version": 3
   },
   "file_extension": ".py",
   "mimetype": "text/x-python",
   "name": "python",
   "nbconvert_exporter": "python",
   "pygments_lexer": "ipython3",
   "version": "3.7.4"
  }
 },
 "nbformat": 4,
 "nbformat_minor": 4
}
