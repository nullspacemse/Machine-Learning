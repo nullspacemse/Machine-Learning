{
 "cells": [
  {
   "cell_type": "markdown",
   "id": "5998f9f1-ac4d-45c1-8679-d9fc43cfd2a3",
   "metadata": {},
   "source": [
    "## Null Space Research\n",
    "\n",
    "We build an algorithm for computing the **Levenshtein edit distance** between two strings - an application of dynamic programming. This program can be used to correct spelling errors. \n",
    "\n",
    "- For instance, assume a user wanted to write the word \"awesome\" but instead ended up writing \"ossome\". In this case we compute the **Levenshtein distance** of this word with various other english words. \n",
    "\n",
    "- The english words for which the Levenshtein distance is minimum, would give us the intended correctly spelled word. In our example, we have compared the levenshtein distance of the word **ossome** with the words **awesome** and **amazing**. \n",
    "\n",
    "- In the end we find that the Levenshtein distance between **ossome** and **awesome** is indeed much lower as compared to the words **ossome** and **amazing**. \n",
    "\n",
    "- This indicates that the first pair of words are quite similar in terms of edit distance and hence we conclude that **awesome** must have been the intended word for the user. With this result, the correct spelling can be suggested to the user. "
   ]
  },
  {
   "cell_type": "code",
   "execution_count": 98,
   "id": "198d0120-aed0-4359-ae6a-aee604408e18",
   "metadata": {},
   "outputs": [],
   "source": [
    "import numpy as np\n",
    "from nltk.corpus import words\n",
    "from nltk.corpus import brown"
   ]
  },
  {
   "cell_type": "code",
   "execution_count": 142,
   "id": "ee204b7c-8460-44ff-aa36-b642f8fa0eef",
   "metadata": {},
   "outputs": [],
   "source": [
    "def levenshtein(source, target):\n",
    "    n = len(source)\n",
    "    m = len(target)\n",
    "    \n",
    "    S = {i+1: source[i] for i in range(len(source))}\n",
    "    T = {i+1: target[i] for i in range(len(target))}\n",
    "    \n",
    "    D = np.zeros(shape=(n+1, m+1))\n",
    "    \n",
    "    # initialize\n",
    "\n",
    "    for i in range(1, n+1):\n",
    "        D[i, 0] = D[i-1, 0] + 1\n",
    "    for j in range(1, m+1):\n",
    "        D[0, j] = D[0, j-1] + 1\n",
    "    \n",
    "    # compute\n",
    "    \n",
    "    for i in range(1, n+1):\n",
    "        for j in range(1, m+1):\n",
    "            d_cost = 3\n",
    "            i_cost = 1\n",
    "            if S[i] == T[j]:\n",
    "                sub_cost = 0\n",
    "            elif S[i] != T[j]:\n",
    "                sub_cost = 1\n",
    "\n",
    "            D[i, j] = min(D[i-1, j] + d_cost, D[i-1, j-1] + sub_cost, D[i, j-1] + i_cost)\n",
    "    \n",
    "    return int(D[n, m])"
   ]
  },
  {
   "cell_type": "code",
   "execution_count": 150,
   "id": "0c50f61d-9c19-4c41-ae17-0c7391a4a0e8",
   "metadata": {},
   "outputs": [
    {
     "data": {
      "text/plain": [
       "3"
      ]
     },
     "execution_count": 150,
     "metadata": {},
     "output_type": "execute_result"
    }
   ],
   "source": [
    "levenshtein('ossome', 'awesome')"
   ]
  },
  {
   "cell_type": "code",
   "execution_count": 151,
   "id": "319f3999-e70e-487f-abd8-9cf33e85c4a8",
   "metadata": {},
   "outputs": [
    {
     "data": {
      "text/plain": [
       "7"
      ]
     },
     "execution_count": 151,
     "metadata": {},
     "output_type": "execute_result"
    }
   ],
   "source": [
    "levenshtein('ossome', 'amazing')"
   ]
  },
  {
   "cell_type": "code",
   "execution_count": 152,
   "id": "a3c13c10-0e7f-4823-9827-6cb3d6e9a987",
   "metadata": {},
   "outputs": [
    {
     "name": "stdout",
     "output_type": "stream",
     "text": [
      "since LEVENSHTEIN('ossome', 'awesome') = 3 < LEVENSHTEIN('ossome', 'amazing') = 7 ...\n",
      "\n",
      "we conclude that 'awesome' is the intended word when the user spelled 'ossome'\n"
     ]
    }
   ],
   "source": [
    "print(\"since LEVENSHTEIN('ossome', 'awesome') = 3 < LEVENSHTEIN('ossome', 'amazing') = 7 ...\")\n",
    "print()\n",
    "print(\"we conclude that 'awesome' is the intended word when the user spelled 'ossome'\")"
   ]
  },
  {
   "cell_type": "code",
   "execution_count": null,
   "id": "1ab5f9e3-0c63-46ba-bf0e-1496013a0c5c",
   "metadata": {},
   "outputs": [],
   "source": []
  }
 ],
 "metadata": {
  "kernelspec": {
   "display_name": "Python 3",
   "language": "python",
   "name": "python3"
  },
  "language_info": {
   "codemirror_mode": {
    "name": "ipython",
    "version": 3
   },
   "file_extension": ".py",
   "mimetype": "text/x-python",
   "name": "python",
   "nbconvert_exporter": "python",
   "pygments_lexer": "ipython3",
   "version": "3.8.8"
  }
 },
 "nbformat": 4,
 "nbformat_minor": 5
}
