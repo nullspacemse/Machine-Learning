{
 "cells": [
  {
   "cell_type": "markdown",
   "id": "6fbd3c8a-10bd-4cb4-b017-d25ec6a24938",
   "metadata": {},
   "source": [
    "# Binary Search trees\n",
    "\n",
    "## Null Space Research - Algorithms\n",
    "\n",
    "Before we start to discuss **Binary Search Trees** we must understand what **trees** are. They are essentially Graphs (a collection of vertices and edges) such that there are no circuits or loops. Consequently, we define a **rooted tree** as a tree wherein one vertex is designated as the root and all edges basically direct away from it. \n",
    "\n",
    "## Binary Trees\n",
    "\n",
    "When each vertex has at most two **child vertices** or equivalently, if a vertex is the **parent** of at most two other vertices, then what we have is essentially a **binary tree**. \n",
    "\n",
    "- Binary trees are used in many applications like sorting, indexing and various other decision based problems. \n",
    "\n",
    "- Indeed binary trees can also be deployed as **decision trees** - wherein each node (or vertex) is associated with a decision, and based on that decision we either move toward the left child node or the right child node. \n",
    "\n",
    "In this set of programs, we demonstrate the **construction** and **Traversal** of binary trees using efficient algorithms. For traveral - we are using the **inorder traversal** algorithm that outputs the sorted list of numbers encoded via the binary tree.\n",
    "\n",
    "*algorithm and theory reference - ROSEN*"
   ]
  },
  {
   "cell_type": "code",
   "execution_count": 1,
   "id": "d7822683-cd8a-41e2-816c-38e72bd3cbc6",
   "metadata": {},
   "outputs": [],
   "source": [
    "import numpy as np"
   ]
  },
  {
   "cell_type": "code",
   "execution_count": 2,
   "id": "efb05dc9-5381-4b53-bf57-bb603b63752f",
   "metadata": {},
   "outputs": [],
   "source": [
    "# Using an OOP framework - we define the objects for root nodes (vertex), left child nodes (L_child)\n",
    "# and right child nodes (R_child)\n",
    "\n",
    "# Each node is associated with certain properties like - its name, value, its parents and its children.\n",
    "# we designate a value of 'NULL' if a certain node has no children or no value\n",
    "\n",
    "class vertex(object):\n",
    "    def __init__(self, name, value, LC, RC, parent):\n",
    "        self.name = name\n",
    "        self.value = value\n",
    "        self.LC = LC\n",
    "        self.RC = RC\n",
    "        self.parent = parent\n",
    "    \n",
    "    def get_name(self):\n",
    "        return self.name\n",
    "    def get_value(self):\n",
    "        return self.value\n",
    "    def get_LC(self):\n",
    "        return self.LC\n",
    "    def get_RC(self):\n",
    "        return self.RC\n",
    "    def get_parent(self):\n",
    "        return self.parent\n",
    "    def __str__(self):\n",
    "        return str(self.name) + \" left child: \" + str(self.LC) + \" right child: \" + str(self.RC)\n",
    "\n",
    "class L_child(vertex):\n",
    "    def __init__(self, name, value, LC, RC, parent):\n",
    "        self.name = name\n",
    "        self.value = value\n",
    "        self.LC = LC\n",
    "        self.RC = RC\n",
    "        self.parent = parent\n",
    "    def __str__(self):\n",
    "        return (\"Left_child: (\" + \"name: \" + str(self.name) + \", \" + \"parent: \" + str(self.parent) + \", \" + \n",
    "                \"value: \" + str(self.value) + \")\")\n",
    "        \n",
    "class R_child(vertex):\n",
    "    def __init__(self, name, value, LC, RC, parent):\n",
    "        self.name = name\n",
    "        self.value = value\n",
    "        self.LC = LC\n",
    "        self.RC = RC\n",
    "        self.parent = parent\n",
    "    def __str__(self):\n",
    "        return (\"Right_child: (\" + \"name: \" + str(self.name) + \", \" + \"parent: \" + str(self.parent) + \", \" + \n",
    "                \"value: \" + str(self.value) + \")\")"
   ]
  },
  {
   "cell_type": "code",
   "execution_count": 385,
   "id": "0b3818b6-5073-40f4-81dc-7bf5dd443a59",
   "metadata": {},
   "outputs": [],
   "source": [
    "# initializing the root of the tree with a value of 34\n",
    "\n",
    "v = vertex(0, 34, 'NULL', 'NULL', -1)\n",
    "nodes = []\n",
    "nodes.append(v)"
   ]
  },
  {
   "cell_type": "code",
   "execution_count": 4,
   "id": "c0bf5c44-32d8-4ca8-ac28-a8ccb404eda3",
   "metadata": {},
   "outputs": [],
   "source": [
    "# this algorithm functions as a INSERTION algorithm that essentially helps us construct a tree \n",
    "# after construction the tree encodes the ordering of the numbers we successively input\n",
    "\n",
    "def insertion(tree, x):\n",
    "    v = tree[0]\n",
    "    while v.get_name() != 'NULL' and v.get_value() != x:\n",
    "        if x < v.get_value():\n",
    "            if v.get_LC() != 'NULL':\n",
    "                v = v.get_LC()\n",
    "            else:\n",
    "                v.LC = L_child('NULL', 'NULL', 'NULL' , 'NULL', v.get_name())\n",
    "                v = v.LC\n",
    "        else:\n",
    "            if v.get_RC() != 'NULL':\n",
    "                v = v.get_RC()\n",
    "            else:\n",
    "                v.RC = R_child('NULL', 'NULL', 'NULL', 'NULL', v.get_name())\n",
    "                v = v.RC\n",
    "\n",
    "    if v.get_name() == 'NULL' and v.get_value() != x:\n",
    "        v.name = np.random.randint(1, 10)\n",
    "        v.value = x\n",
    "        nodes.append(v)\n",
    "    return nodes, v"
   ]
  },
  {
   "cell_type": "code",
   "execution_count": 386,
   "id": "12e11228-8ad6-401f-aaff-cf2bef11579c",
   "metadata": {},
   "outputs": [],
   "source": [
    "# this code is basically calling the INSERTION function to actually construct the tree using some numbers\n",
    "\n",
    "nodes1 = insertion(nodes, 45)\n",
    "nodes2 = insertion(nodes1[0], 23)\n",
    "nodes3 = insertion(nodes2[0], 37)\n",
    "nodes4 = insertion(nodes3[0], 12)\n",
    "nodes5 = insertion(nodes4[0], 103)\n",
    "nodes6 = insertion(nodes5[0], 24)"
   ]
  },
  {
   "cell_type": "code",
   "execution_count": 388,
   "id": "b6c98e57-e8ed-460f-88f1-57d5d6ce7ac1",
   "metadata": {},
   "outputs": [],
   "source": [
    "treelist = nodes6[0]"
   ]
  },
  {
   "cell_type": "code",
   "execution_count": 389,
   "id": "e7e76ae7-7c69-4f2d-b7bc-fed46edf967f",
   "metadata": {},
   "outputs": [],
   "source": [
    "# this function is used to create SUBTREES - basically wherein we designate a chosen child node as the root\n",
    "# and output the tree from that point onward - this is a RECURSIVE function.\n",
    "\n",
    "def create_subtree(subnode, subtree = []):\n",
    "    r = subnode\n",
    "    if r not in subtree:\n",
    "        subtree.append(r)\n",
    "    if r.LC == 'NULL' and r.RC == 'NULL':\n",
    "        return subtree\n",
    "    else:\n",
    "        childlist = [r.LC, r.RC]\n",
    "        for node in childlist:\n",
    "            if node == 'NULL':\n",
    "                pass\n",
    "            else:\n",
    "                subtree.append(node)\n",
    "                ST = create_subtree(node, subtree)\n",
    "    return ST"
   ]
  },
  {
   "cell_type": "code",
   "execution_count": 395,
   "id": "ec83ff56-bf29-4857-9d00-f9341e28759e",
   "metadata": {},
   "outputs": [],
   "source": [
    "# Here is the RECURSIVE algorithm for INORDER traversal of the tree - this outputs the sorted list of numbers.\n",
    "\n",
    "def inorder(T, listing = []):\n",
    "    r = T[0]\n",
    "    if r.LC == 'NULL' and r.RC == 'NULL':\n",
    "        val = r.get_value()\n",
    "        if val not in listing:\n",
    "            listing.append(val)\n",
    "        return listing\n",
    "    else:\n",
    "        if r.LC == 'NULL':\n",
    "            l = r.RC\n",
    "        else:\n",
    "            l = r.LC\n",
    "        if l == 'NULL':\n",
    "            pass\n",
    "        else:\n",
    "            newtree = create_subtree(l, subtree=[])\n",
    "            listing = inorder(newtree, listing)\n",
    "            value = r.get_value()\n",
    "            if value not in listing:\n",
    "                listing.append(value)\n",
    "                \n",
    "            c = r.RC\n",
    "            if c == 'NULL':\n",
    "                pass\n",
    "            else:\n",
    "                newtree = create_subtree(c, subtree=[])\n",
    "                listing = inorder(newtree, listing)\n",
    "                \n",
    "            return listing"
   ]
  },
  {
   "cell_type": "code",
   "execution_count": 398,
   "id": "4927a2a3-ee4a-4be6-b472-4380e5aadee6",
   "metadata": {},
   "outputs": [
    {
     "data": {
      "text/plain": [
       "[12, 23, 24, 34, 37, 45, 103]"
      ]
     },
     "execution_count": 398,
     "metadata": {},
     "output_type": "execute_result"
    }
   ],
   "source": [
    "# the sorted list of numbers in shown as output\n",
    "\n",
    "inorder(treelist)"
   ]
  },
  {
   "cell_type": "code",
   "execution_count": null,
   "id": "30baa411-1f45-4b77-867b-48e6cd766769",
   "metadata": {},
   "outputs": [],
   "source": []
  }
 ],
 "metadata": {
  "kernelspec": {
   "display_name": "Python 3",
   "language": "python",
   "name": "python3"
  },
  "language_info": {
   "codemirror_mode": {
    "name": "ipython",
    "version": 3
   },
   "file_extension": ".py",
   "mimetype": "text/x-python",
   "name": "python",
   "nbconvert_exporter": "python",
   "pygments_lexer": "ipython3",
   "version": "3.8.8"
  }
 },
 "nbformat": 4,
 "nbformat_minor": 5
}
