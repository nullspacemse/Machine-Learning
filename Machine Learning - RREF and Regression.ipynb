{
 "cells": [
  {
   "cell_type": "markdown",
   "metadata": {},
   "source": [
    "# Function for Row Reduced Echelon Form"
   ]
  },
  {
   "cell_type": "markdown",
   "metadata": {},
   "source": [
    "## Acknowledegment\n",
    "1. Machine Learning Class Notes, Dr.Rakesh Nigam\n",
    "2. Title:Coding the Matrix: Linear Algebra Through Applications to Computer Science\\\n",
    "Author:\tPhilip N. Klein\n",
    "Publisher:Newtonian Press, 2013\n",
    "3. MIT OpenCourseWare, Linear Algebra 18.06\n",
    "3. Have discussed the problem statement and concepts with my classmates Vamsi, Savithri, Himani and Palak."
   ]
  },
  {
   "cell_type": "code",
   "execution_count": 1,
   "metadata": {},
   "outputs": [],
   "source": [
    "# code for rref\n",
    "import numpy as np \n",
    "# define the function\n",
    "def my_echelon(A):\n",
    "# assignment operation\n",
    "    index_list = []\n",
    "\n",
    "# IDENTIFY PIVOTS BY ITERATING OVER COLUMNS AND OVER ROWS IN EACH COLUMN\n",
    "    \n",
    "    for j in range(A.shape[1]): # iterate over columns \n",
    "        for i in range(A.shape[0]): # iterate over the rows in column j\n",
    "            if i not in index_list and A[i, j] != 0: #--->if condiction evaluates to true then proceed\n",
    "\n",
    "# we do 3 things - add row index to index list, make the pivot 1, make other elements of that column 0\n",
    "                index_list.append(i) # ---> add row index to index list\n",
    "                A[i,:] = A[i,:]/A[i,j] #--->  make the pivot 1\n",
    "# we write a for loop to make other elements of that column 0\n",
    "                for k in range(A.shape[0]):\n",
    "                    if k!= i and A[k,j]!=0:\n",
    "                        A[k,:] = A[k,:]-(A[k,j]*A[i,:])\n",
    "# row swap using index\n",
    "    for q in index_list:\n",
    "        A[[index_list.index(q) , q]] = A[[q,index_list.index(q)]]\n",
    "# return RREF\n",
    "    print(A)   "
   ]
  },
  {
   "cell_type": "code",
   "execution_count": 2,
   "metadata": {},
   "outputs": [],
   "source": [
    "# example\n",
    "A = np.array([[3.,6, 5],[6, 14, 11]])"
   ]
  },
  {
   "cell_type": "code",
   "execution_count": 3,
   "metadata": {},
   "outputs": [
    {
     "name": "stdout",
     "output_type": "stream",
     "text": [
      "[[1.         0.         0.66666667]\n",
      " [0.         1.         0.5       ]]\n"
     ]
    }
   ],
   "source": [
    "#output of example\n",
    "my_echelon(A)"
   ]
  },
  {
   "cell_type": "markdown",
   "metadata": {},
   "source": [
    "# Regression (Simple Example)\n",
    "In ABC Shopping Centre, we wish to find the relation between the sales revenue and amount spent on advertisements. We assume a linear relationship. $ Y = C + Dx + error$ where $Y$ is the sales and $X$ is the amount spent on ads. The regression problem is to find $C$ and $D$ such that $ Y = C + Dx$ is the best fit line that minimizes the error. We have observed the following data from 3 years. In year 1, we spent $1$ unit on ads and sales revenue was $1$ unit; in year 2, we spent $2$ units on ads and sales revenue was $2$ units; in year 3 we spent $3$ units on ads and sales revenue was $2$ units. "
   ]
  },
  {
   "cell_type": "code",
   "execution_count": 51,
   "metadata": {
    "scrolled": false
   },
   "outputs": [
    {
     "data": {
      "image/png": "[encoded data removed]",
      "text/plain": [
       "<Figure size 432x288 with 1 Axes>"
      ]
     },
     "metadata": {
      "needs_background": "light"
     },
     "output_type": "display_data"
    }
   ],
   "source": [
    "# plot the points\n",
    "import matplotlib.pyplot as plt\n",
    "x = (1, 2, 3)\n",
    "y = (1, 2, 2)\n",
    "plt.scatter(x,y)\n",
    "plt.xlabel('amount spent on ads')\n",
    "plt.ylabel('sales revenue')\n",
    "plt.show()"
   ]
  },
  {
   "cell_type": "markdown",
   "metadata": {},
   "source": [
    "# Solution Using Linear Algebra(Theory)\n",
    "We want to solve the equations\n",
    "$$ C + D = 1 $$\n",
    "$$ C + 2D = 2 $$\n",
    "$$ C + 3D = 2$$\n",
    "In matrix notation, we write\n",
    "$\\begin{bmatrix}\n",
    "  1 & 1\\\\\n",
    "  1 & 2\\\\\n",
    "  1 & 3\\\\\n",
    "\\end{bmatrix}\n",
    "\\begin{bmatrix}\n",
    "    C\\\\\n",
    "    D\\\\\n",
    "\\end{bmatrix} =\n",
    "\\begin{bmatrix}\n",
    "    1\\\\\n",
    "    2\\\\\n",
    "    2\n",
    "\\end{bmatrix}$\n",
    "Clearly, this system has no solution. \n",
    "We solve the normal equations\n",
    "$$ A^TA\\hat x = A^Tb $$\n",
    "$A^TA$ is\n",
    "$$\\begin{bmatrix}\n",
    "    1 & 1 & 1\\\\\n",
    "    1 & 2 & 3\\\\ \n",
    "    \\end{bmatrix}\n",
    "    \\begin{bmatrix}\n",
    "    1 & 1\\\\\n",
    "    1 & 2\\\\\n",
    "    1 & 3\n",
    "    \\end{bmatrix} = \n",
    "    \\begin{bmatrix}\n",
    "    3 & 6\\\\\n",
    "    6 & 14\n",
    "    \\end{bmatrix}\n",
    " $$\n",
    " and $A^Tb$ is\n",
    " $$ \\begin{bmatrix}\n",
    " 1 & 1 & 1\\\\\n",
    " 1 & 2 & 3\\\\\n",
    " \\end{bmatrix}\\begin{bmatrix}\n",
    " 1\\\\\n",
    " 2\\\\\n",
    " 2\\\\\n",
    " \\end{bmatrix}=\\begin{bmatrix}\n",
    " 5\\\\\n",
    " 11\n",
    " \\end{bmatrix}\n",
    " $$\n",
    " We write the augmented matrix\n",
    " $$ \\begin{bmatrix}\n",
    "  3 & 6 & 5\\\\\n",
    "  6 & 14 & 11\n",
    "\\end{bmatrix}$$\n",
    "Using ERO $R_2 \\to R_2 - 2R_1$, we get\n",
    "$$\\begin{bmatrix}\n",
    "  3 & 6 & 5\\\\\n",
    "  0 & 2 & 1\n",
    "\\end{bmatrix} $$\n",
    "Using ERO, $R_2 \\to \\frac{1}{2} R_2$, we get\n",
    "$$ \\begin{bmatrix}\n",
    "  3 & 6 & 5\\\\\n",
    "  0 & 1 & 1/2\n",
    "\\end{bmatrix} $$\n",
    "Solving we get $ C = 2/3$ and $D=1/2$."
   ]
  },
  {
   "cell_type": "markdown",
   "metadata": {},
   "source": [
    "# Solution using code for rref"
   ]
  },
  {
   "cell_type": "code",
   "execution_count": 52,
   "metadata": {
    "scrolled": true
   },
   "outputs": [
    {
     "name": "stdout",
     "output_type": "stream",
     "text": [
      "[[1.         0.         0.66666667]\n",
      " [0.         1.         0.5       ]]\n"
     ]
    }
   ],
   "source": [
    "# use rref code to solve \n",
    "A = np.array([[3.,6, 5],[6, 14, 11]]) # this is augmented matrix\n",
    "my_echelon(A) # we have the same solution C = 2/3 and D = 1/2"
   ]
  },
  {
   "cell_type": "code",
   "execution_count": 53,
   "metadata": {
    "scrolled": false
   },
   "outputs": [
    {
     "data": {
      "image/png": "[encoded data removed]",
      "text/plain": [
       "<Figure size 432x288 with 1 Axes>"
      ]
     },
     "metadata": {
      "needs_background": "light"
     },
     "output_type": "display_data"
    }
   ],
   "source": [
    "# plot the best fit line\n",
    "x = np.array(x)\n",
    "y_hat = (0.66666667)+(0.5)*x\n",
    "plt.plot(x, y_hat)\n",
    "plt.scatter(x,y)\n",
    "plt.xlabel('amount spent on ads')\n",
    "plt.ylabel('sales revenue')\n",
    "plt.show()"
   ]
  },
  {
   "cell_type": "markdown",
   "metadata": {},
   "source": [
    "# Example when this method fails"
   ]
  },
  {
   "cell_type": "markdown",
   "metadata": {},
   "source": [
    "In another store, the sales revenue $z$ is related to amount spent on ads $x$ and bonus given to sales staff $y$ by the equation $z = Cx + Dy $. We have observed the following data for the last three years. \\\n",
    "Year 1: $x = 1$, $y = 2$, $z = 7$\\\n",
    "Year 2: $x =2$, $y = 4$, $z = 10$\\\n",
    "Year 3: $x = 3$, $y=6$, $z= 16$\\\n",
    "We can write the equations as:\\\n",
    "$ 1C + 2D = 7$\\\n",
    "$2C + 4D = 10$\\\n",
    "$3C + 6D = 16$\\\n",
    "In matrix notation:\n",
    "$\\begin{bmatrix}\n",
    "1 & 2\\\\\n",
    "2 & 4\\\\\n",
    "3 & 6\\\\\n",
    "\\end{bmatrix} \\begin{bmatrix}\n",
    "C\\\\\n",
    "D\\\\\n",
    "\\end{bmatrix}=\n",
    "\\begin{bmatrix}\n",
    "7\\\\\n",
    "10\\\\\n",
    "16\\\\\n",
    "\\end{bmatrix}\n",
    "$"
   ]
  },
  {
   "cell_type": "code",
   "execution_count": 55,
   "metadata": {},
   "outputs": [
    {
     "name": "stdout",
     "output_type": "stream",
     "text": [
      "[[1 2]\n",
      " [2 4]\n",
      " [3 6]]\n"
     ]
    }
   ],
   "source": [
    "P = np.array([[1,2],[2,4],[3,6]])\n",
    "print(P)"
   ]
  },
  {
   "cell_type": "code",
   "execution_count": 57,
   "metadata": {},
   "outputs": [
    {
     "name": "stdout",
     "output_type": "stream",
     "text": [
      "[[1 2 3]\n",
      " [2 4 6]]\n"
     ]
    }
   ],
   "source": [
    "P_transpose = P.transpose()\n",
    "print(P.transpose())"
   ]
  },
  {
   "cell_type": "code",
   "execution_count": 58,
   "metadata": {},
   "outputs": [],
   "source": [
    "z = np.array([7,10,16])"
   ]
  },
  {
   "cell_type": "code",
   "execution_count": 59,
   "metadata": {},
   "outputs": [],
   "source": [
    "z = z.transpose()"
   ]
  },
  {
   "cell_type": "code",
   "execution_count": 61,
   "metadata": {},
   "outputs": [
    {
     "name": "stdout",
     "output_type": "stream",
     "text": [
      "[[14 28]\n",
      " [28 56]]\n"
     ]
    }
   ],
   "source": [
    "# (P_transpose)(P)\n",
    "Q = np.matmul(P_transpose,P)\n",
    "print(Q)"
   ]
  },
  {
   "cell_type": "code",
   "execution_count": 72,
   "metadata": {},
   "outputs": [
    {
     "name": "stdout",
     "output_type": "stream",
     "text": [
      "[[ 75]\n",
      " [150]]\n"
     ]
    }
   ],
   "source": [
    "# (P_transpose)(z)\n",
    "R = np.matmul(P_transpose, z).reshape(2,1)\n",
    "print(R)"
   ]
  },
  {
   "cell_type": "code",
   "execution_count": 74,
   "metadata": {},
   "outputs": [
    {
     "name": "stdout",
     "output_type": "stream",
     "text": [
      "[[ 14  28  75]\n",
      " [ 28  56 150]]\n"
     ]
    }
   ],
   "source": [
    "augmented_matrix = np.hstack((Q, R))\n",
    "print(augmented_matrix)"
   ]
  },
  {
   "cell_type": "code",
   "execution_count": 75,
   "metadata": {},
   "outputs": [
    {
     "name": "stdout",
     "output_type": "stream",
     "text": [
      "[[1 2 0]\n",
      " [0 0 1]]\n"
     ]
    }
   ],
   "source": [
    "my_echelon(augmented_matrix) # inconsistency!!!thus the method breaks down!!!!"
   ]
  },
  {
   "cell_type": "markdown",
   "metadata": {},
   "source": [
    "# 'Complicated' Example"
   ]
  },
  {
   "cell_type": "markdown",
   "metadata": {},
   "source": [
    "In QWERTY store, the target variable $z = sales$ is related to the feature vector $(x=\\text{amount spent on ads}, y=\\text{sales bonus})$ by the equation $ z = Cx^2 + Dy + E $. We have $10$ data points."
   ]
  },
  {
   "cell_type": "code",
   "execution_count": 162,
   "metadata": {
    "scrolled": true
   },
   "outputs": [
    {
     "name": "stdout",
     "output_type": "stream",
     "text": [
      "[[1.936e+03 7.000e+01 1.000e+00]\n",
      " [2.209e+03 8.800e+01 1.000e+00]\n",
      " [4.096e+03 8.800e+01 1.000e+00]\n",
      " [4.489e+03 1.200e+01 1.000e+00]\n",
      " [4.489e+03 5.800e+01 1.000e+00]\n",
      " [8.100e+01 6.500e+01 1.000e+00]\n",
      " [6.889e+03 3.900e+01 1.000e+00]\n",
      " [4.410e+02 8.700e+01 1.000e+00]\n",
      " [1.296e+03 4.600e+01 1.000e+00]\n",
      " [7.569e+03 8.800e+01 1.000e+00]]\n"
     ]
    }
   ],
   "source": [
    "# \"cooking up\" the data\n",
    "np.random.seed(0) # seed will give same result to numpy function each time\n",
    "x = np.random.randint(100, size=(10))\n",
    "y = np.random.randint(100, size=(10))\n",
    "z = 7*(x)**2 + 5*(y) + 1 + (0.1)*np.random.randn(10) # randn returns numbers using standard normal\n",
    "z_hat = 7*(x)**2 + 5*(y) + 1\n",
    "A = np.vstack(((x**2),y,np.ones(10)))\n",
    "A = A.transpose()\n",
    "print(A)"
   ]
  },
  {
   "cell_type": "code",
   "execution_count": 163,
   "metadata": {},
   "outputs": [
    {
     "name": "stdout",
     "output_type": "stream",
     "text": [
      "[[1.72335975e+08 2.04258100e+06 3.34950000e+04]\n",
      " [2.04258100e+06 4.70710000e+04 6.41000000e+02]\n",
      " [3.34950000e+04 6.41000000e+02 1.00000000e+01]]\n"
     ]
    }
   ],
   "source": [
    "A_transpose = A.transpose() # matrix multiplication of A transpose and A\n",
    "B = np.matmul(A_transpose,A)\n",
    "print(B)"
   ]
  },
  {
   "cell_type": "code",
   "execution_count": 164,
   "metadata": {},
   "outputs": [
    {
     "data": {
      "text/plain": [
       "array([13903.11253141, 15903.96410044, 29113.12206081, 31483.86605045,\n",
       "       31714.04283734,   892.98765369, 48419.14143772,  3522.98759493,\n",
       "        9303.20081571, 53424.02298865])"
      ]
     },
     "execution_count": 164,
     "metadata": {},
     "output_type": "execute_result"
    }
   ],
   "source": [
    "z = z.transpose()\n",
    "z"
   ]
  },
  {
   "cell_type": "code",
   "execution_count": 165,
   "metadata": {},
   "outputs": [
    {
     "name": "stdout",
     "output_type": "stream",
     "text": [
      "[1.21659986e+09 1.45340942e+07 2.37680448e+05]\n"
     ]
    }
   ],
   "source": [
    "C = np.matmul(A_transpose, z)\n",
    "print(C)"
   ]
  },
  {
   "cell_type": "code",
   "execution_count": 166,
   "metadata": {},
   "outputs": [
    {
     "data": {
      "text/plain": [
       "array([[1.21659986e+09],\n",
       "       [1.45340942e+07],\n",
       "       [2.37680448e+05]])"
      ]
     },
     "execution_count": 166,
     "metadata": {},
     "output_type": "execute_result"
    }
   ],
   "source": [
    "C = C.reshape(3,1)\n",
    "C"
   ]
  },
  {
   "cell_type": "code",
   "execution_count": 167,
   "metadata": {},
   "outputs": [],
   "source": [
    "augmented_mat = np.hstack((B, C))"
   ]
  },
  {
   "cell_type": "code",
   "execution_count": 168,
   "metadata": {},
   "outputs": [
    {
     "name": "stdout",
     "output_type": "stream",
     "text": [
      "[[1.         0.         0.         7.000003  ]\n",
      " [0.         1.         0.         5.00047182]\n",
      " [0.         0.         1.         1.0045313 ]]\n"
     ]
    }
   ],
   "source": [
    "my_echelon(augmented_mat)"
   ]
  },
  {
   "cell_type": "markdown",
   "metadata": {},
   "source": [
    "Solving we get , $E = 1.0045313 $, $D =5.00047182$ and $C = 7.000003$"
   ]
  },
  {
   "cell_type": "code",
   "execution_count": null,
   "metadata": {},
   "outputs": [],
   "source": []
  }
 ],
 "metadata": {
  "kernelspec": {
   "display_name": "Python 3",
   "language": "python",
   "name": "python3"
  },
  "language_info": {
   "codemirror_mode": {
    "name": "ipython",
    "version": 3
   },
   "file_extension": ".py",
   "mimetype": "text/x-python",
   "name": "python",
   "nbconvert_exporter": "python",
   "pygments_lexer": "ipython3",
   "version": "3.8.3"
  }
 },
 "nbformat": 4,
 "nbformat_minor": 4
}
