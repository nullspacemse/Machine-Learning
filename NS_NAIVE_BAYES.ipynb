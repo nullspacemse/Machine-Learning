{
 "cells": [
  {
   "cell_type": "code",
   "execution_count": 286,
   "id": "74c6d4a3-25e6-4ee2-8425-38f1354f21e4",
   "metadata": {},
   "outputs": [],
   "source": [
    "# MAKE SURE TO INLCUDE THESE IMPORT STATEMENTS\n",
    "\n",
    "import pandas as pd\n",
    "import numpy as np"
   ]
  },
  {
   "cell_type": "code",
   "execution_count": null,
   "id": "eb700923-95b3-4911-8f0a-df0ea4183700",
   "metadata": {},
   "outputs": [],
   "source": [
    "# THE VALUES ASND RESULTS YOU SEE IN THIS TEST PROGRAM IS FROM THE WINE-QUALITY DATASET\n",
    "\n",
    "# SINCE THIS ALGORITHM ONLY WORKS ON A BINARY CLASSIFICATION PROBLEM, WE HAVE CONVERTED THE RESPONSE VARIABLE TO BE BINARY\n",
    "\n",
    "# FOR THIS CASE, WE TOOK ALL VALUES OF 'QUALITY' < 6 AS 0 AND 'QUALITY' > 6 AS 1"
   ]
  },
  {
   "cell_type": "code",
   "execution_count": 503,
   "id": "d95e15f3-2ab2-4585-a287-2d8021681bc9",
   "metadata": {},
   "outputs": [],
   "source": [
    "# ********************* CORE FUNCTIONS ********************* #\n",
    "\n",
    "# THIS FUNCTION WOULD PRE-PROCESS THE INCOMING RAW DATASET\n",
    "# THE PREPROCESSING INVOLVES - CONVERTING NUMERICAL FIELDS INTO BINNED CATEGORICAL ENCODED COLUMNS\n",
    "# IN THE OUTPUT WE OBTAIN THE PROCESSED DARTASET IN WHICH NUMERICAL VALUES HAVE BEEN ENCODED AS PER BINNED VALUES\n",
    "# ** NOTE ** - THIS FUNCTION COMES WITH A HYPERPARAMETER - THAT SPECIFIES HOW MANY LEVELS OF THE NUMERICAL VARIABLE TO CREATE\n",
    "\n",
    "def preprocess_data(data, response, hyperparameter):\n",
    "    res = data[response]\n",
    "    processed_df = pd.DataFrame()\n",
    "    col_list = list(data.columns)\n",
    "    col_list.remove(response)\n",
    "\n",
    "    for col in col_list:\n",
    "        if len(data[col].unique())>15:\n",
    "            feature = pd.qcut(np.log(data[col]+1), hyperparameter, labels=range(hyperparameter))\n",
    "        else:\n",
    "            feature = data[col]\n",
    "        processed_df[col] = feature\n",
    "    processed_df['y'] = res\n",
    "    return processed_df\n",
    "\n",
    "############################################################################################################################\n",
    "\n",
    "# THIS FUNCTION COMPUTES THE PRIOR PROBABILITY OF THE BINARY CLASSES AND TAKES ITS LOG\n",
    "# IN THE OUTPUT WE GET THE LOG PRIOR VALUES AND CLASS 0 AND CLASS 1\n",
    "\n",
    "def log_priors(data):\n",
    "    prior0 = np.log(np.round(data[data['y']==0]['y'].count()/len(data), 2))\n",
    "    prior1 = np.log(np.round(data[data['y']==1]['y'].count()/len(data), 2))\n",
    "    return prior0, prior1\n",
    "\n",
    "############################################################################################################################\n",
    "\n",
    "# THIS FUNCTION PERFORMS THE ACTUAL TRAINING ON THE DATA - IT COMPUTES THE LIKELIHOOD SCORES FOR EACH FEATURE\n",
    "# THE OUTPUT IS A DICTIONARY THAT STORES THE TRAINED LIKELIHOOD SCORES FOR EACH FEATURE AND EACH LEVEL WITHIN THEM\n",
    "# THESE ARE THE SCORES THAT ARE ULTIMATELY APPLIED ONTO THE TEST DATASET TO COMPUTE PREDICTIONS\n",
    "\n",
    "def compute_likelihoods(data):\n",
    "    col_list = list(data.columns)\n",
    "    col_list.remove('y')\n",
    "\n",
    "    p0 = data[data['y']==0]\n",
    "    p1 = data[data['y']==1]\n",
    "\n",
    "    feature_level_probs = {}\n",
    "\n",
    "    for f in col_list:\n",
    "        levels = list(data[f].unique())\n",
    "        level_probs = {}\n",
    "\n",
    "        for i in levels:\n",
    "            f_lev_0 = np.log(np.round(((p0[p0[f]==i][f].count())+1)/(len(p0)+len(col_list)), 2))\n",
    "            f_lev_1 = np.log(np.round(((p1[p1[f]==i][f].count())+1)/(len(p1)+len(col_list)), 2))\n",
    "            level_probs[i] = (f_lev_0, f_lev_1)\n",
    "\n",
    "        feature_level_probs[f] = level_probs\n",
    "    return feature_level_probs\n",
    "\n",
    "############################################################################################################################\n",
    "\n",
    "# THIS IS THE NULLSPACE NAIVE BAYES FUNCTION THAT TAKES THE PRE-PROCESSED TEST DATA AS INPUT\n",
    "# IT ALSO TAKES AS INPUT, THE PRIOR PROBABILITIES AND LEARNED LIKELIHOOD SCORES\n",
    "# THE OUTPUT IS THE NEW TEST DATAFRAME IN WHICH A COLUMN OF PREDICTED LABELS IS PRESENT AS WELL\n",
    "\n",
    "def NS_NB(data, prior_0, prior_1, feature_scores):\n",
    "    col_list_test = list(data.columns)\n",
    "    col_list_test.remove('y')\n",
    "    preds = []\n",
    "\n",
    "    for i in range(len(data)):\n",
    "        evidence0 = prior_0\n",
    "        evidence1 = prior_1\n",
    "        for f in col_list_test:\n",
    "            for k in list(feature_scores[f].keys()):\n",
    "                if data[f][i] == k:\n",
    "                    evidence0 += feature_scores[f][k][0]\n",
    "                    evidence1 += feature_scores[f][k][1]\n",
    "                else:\n",
    "                    pass\n",
    "        if max(evidence0, evidence1) == evidence0:\n",
    "            preds.append(0)\n",
    "        elif max(evidence0, evidence1) == evidence1:\n",
    "            preds.append(1)\n",
    "    new_df = data.copy()\n",
    "    new_df['predicted'] = preds\n",
    "    return new_df"
   ]
  },
  {
   "cell_type": "code",
   "execution_count": 504,
   "id": "8ba74c18-dae4-4697-a51b-6a364342a0c3",
   "metadata": {},
   "outputs": [],
   "source": [
    "# THIS IS A MASTER FUNCTION THAT CALLS ALL THE COMPONENT FUNCTIONS TO TRAIN THE NAIVE BAYES MODEL\n",
    "\n",
    "def train_NB_ns(data, response, hyper_param):\n",
    "    p_df = preprocess_data(data, response, hyper_param)\n",
    "    lp0, lp1 = log_priors(p_df)\n",
    "    probs = compute_likelihoods(p_df)\n",
    "    return (lp0, lp1, probs)"
   ]
  },
  {
   "cell_type": "code",
   "execution_count": 509,
   "id": "c7d06f97-b9bc-4025-a729-88d3b323e67d",
   "metadata": {},
   "outputs": [],
   "source": [
    "# THIS IS AN EXAMPLE OF HOW WE CALL THE TRAINING FUNCTION ON THE TRAINING DATASET\n",
    "# WE PASS THE FOLLOWING VALUES TO IT - THE INPUT DATAFRAME OF PREDICTOR COLUMNS, THE RESPONSE VARIABLE NAME, \n",
    "# AND THE HYPERPARAMETER VALUE \n",
    "\n",
    "# ** NOTE ** YOU CAN EXPERIMENT WITH THE HYPERPARAMETER VALUE - BUT KEEP IT BETWEEN 2 AND 14.\n",
    "\n",
    "LP0, LP1, SCORES = train_NB_ns(df_train, 'y', 11)"
   ]
  },
  {
   "cell_type": "code",
   "execution_count": 510,
   "id": "de814835-fc2b-490f-a2ca-b231d600ae6a",
   "metadata": {},
   "outputs": [],
   "source": [
    "# THIS IS THE RUNNING FUNCTION - IT RUNS THE TRAINED SCORES ON THE TEST DATASET\n",
    "# FIRST THE TEST DATA IS PREPROCESSED USING THE SAME METHOD AS THE TRAIN DATASET TO ENSURE CONSISTENCY\n",
    "# THEN THE TRAINED SCORES ARE APPLIED TO ARRIVE AT PREDICTIONS\n",
    "# THE OUTPUT IS THE ACCURACY SCORE!\n",
    "\n",
    "# INPUTS ARE AS FOLLOWS - ENTER THE TEST DATAFRAME, THE LEARNED PARAMETER VALUES FROM THE TRAINING CALL (ABOVE)\n",
    "# AND FINALLY, ENTER THE RESPONSE COLUMN NAME AND THE HYPERPARAMETER \n",
    "\n",
    "# ** NOTE ** PLEASE INCLUDE THE SAME HYPERPARAMETER VALUE AS ENTERED IN THE TRAIN PROGRAM\n",
    "\n",
    "def run_NB_ns(frame, logprior0, logprior1, scores, response, hyper_param):\n",
    "    new_frame = preprocess_data(frame, response, hyper_param)\n",
    "    p = NS_NB(new_frame, logprior0, logprior1, scores)\n",
    "    accuracy = p[p['y']==p['predicted']]['y'].count()/len(p)\n",
    "    return accuracy"
   ]
  },
  {
   "cell_type": "code",
   "execution_count": 511,
   "id": "81ac2c5d-6c06-4a67-be25-4c5c2ae694e8",
   "metadata": {},
   "outputs": [],
   "source": [
    "# THIS IS AN EXAMPLE OF HOW WE CALL THE RUN FUNCTION TO COMPUTE THE ACCURACY\n",
    "\n",
    "ACCURACY = run_NB_ns(df_test, LP0, LP1, SCORES, 'y', 11)"
   ]
  },
  {
   "cell_type": "code",
   "execution_count": 512,
   "id": "670ab526-e47c-4f42-9564-29f1bbc994cf",
   "metadata": {},
   "outputs": [
    {
     "data": {
      "text/plain": [
       "0.726530612244898"
      ]
     },
     "execution_count": 512,
     "metadata": {},
     "output_type": "execute_result"
    }
   ],
   "source": [
    "# THE ACCURACY IS THEN PRINTED OUT\n",
    "\n",
    "ACCURACY"
   ]
  }
 ],
 "metadata": {
  "kernelspec": {
   "display_name": "Python 3",
   "language": "python",
   "name": "python3"
  },
  "language_info": {
   "codemirror_mode": {
    "name": "ipython",
    "version": 3
   },
   "file_extension": ".py",
   "mimetype": "text/x-python",
   "name": "python",
   "nbconvert_exporter": "python",
   "pygments_lexer": "ipython3",
   "version": "3.8.8"
  }
 },
 "nbformat": 4,
 "nbformat_minor": 5
}
