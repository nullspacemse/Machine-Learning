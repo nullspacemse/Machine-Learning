{
 "cells": [
  {
   "cell_type": "markdown",
   "metadata": {},
   "source": [
    "## OOP demonstration - Akash Gupta\n",
    "\n",
    "demonstrating an implementation of basic Object Oriented Programming concepts."
   ]
  },
  {
   "cell_type": "code",
   "execution_count": 10,
   "metadata": {},
   "outputs": [
    {
     "name": "stdout",
     "output_type": "stream",
     "text": [
      "3425\n"
     ]
    }
   ],
   "source": [
    "class Stock(object):\n",
    "    def __init__(self, name, price, expRet, num):\n",
    "        self.name = name\n",
    "        self.price = price\n",
    "        self.expRet = expRet\n",
    "        self.num = num\n",
    "        \n",
    "    def getName(self):\n",
    "        return self.name\n",
    "    def getPrice(self):\n",
    "        return self.price\n",
    "    def getExpRet(self):\n",
    "        return self.expRet\n",
    "    def getNum(self):\n",
    "        return self.num\n",
    "    def getValue(self):\n",
    "        return (self.num * self.price)\n",
    "    def __str__(self):\n",
    "        return self.name\n",
    "    \n",
    "class Portfolio(Stock):\n",
    "    def __init__(self):\n",
    "        self.port = {}\n",
    "    \n",
    "    def addStock(self, stock):\n",
    "        if stock in self.port:\n",
    "            raise ValueError(\"duplicate entry\")\n",
    "        self.port[stock] = stock.getValue()\n",
    "    \n",
    "    def getPort(self):\n",
    "        return self.port \n",
    "    \n",
    "    def calPortValue(self):\n",
    "        return sum(self.port.values())\n",
    "    \n",
    "    def expReturn(self):\n",
    "        total = 0\n",
    "        for k,v in self.port.items():\n",
    "            total += (v/self.port.calPortValue()) * (k.getExpRet())\n",
    "        return total\n",
    "\n",
    "stock1 = Stock(\"company a\", 20, 0.10, 20)\n",
    "stock2 = Stock(\"company b\", 30, 0.08, 30)\n",
    "stock3 = Stock(\"company c\", 40, 0.07, 40)\n",
    "stock4 = Stock(\"company d\", 15, 0.20, 35)\n",
    "\n",
    "portfolio1 = Portfolio()\n",
    "\n",
    "stocks = [stock1, stock2, stock3, stock4]\n",
    "for s in stocks:\n",
    "    portfolio1.addStock(s)\n",
    "\n",
    "print(portfolio1.calPortValue())"
   ]
  }
 ],
 "metadata": {
  "kernelspec": {
   "display_name": "Python 3",
   "language": "python",
   "name": "python3"
  },
  "language_info": {
   "codemirror_mode": {
    "name": "ipython",
    "version": 3
   },
   "file_extension": ".py",
   "mimetype": "text/x-python",
   "name": "python",
   "nbconvert_exporter": "python",
   "pygments_lexer": "ipython3",
   "version": "3.7.4"
  }
 },
 "nbformat": 4,
 "nbformat_minor": 4
}
