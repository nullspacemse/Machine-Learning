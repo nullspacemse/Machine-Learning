{
 "cells": [
  {
   "cell_type": "markdown",
   "metadata": {},
   "source": [
    "## Dijkstra's Algorithm\n",
    "\n",
    "***Null Space Research***\n",
    "\n",
    "Traversing the shortest length path from a user specified **start** node till a user specified **end** node. We use a weighted graph here - where the weights represents lengths of edges. We find minimum length or distance between two arbitrarily chosen points in the weighted graph. "
   ]
  },
  {
   "cell_type": "code",
   "execution_count": 1,
   "metadata": {},
   "outputs": [],
   "source": [
    "import numpy as np\n",
    "import pandas as pd"
   ]
  },
  {
   "cell_type": "code",
   "execution_count": 186,
   "metadata": {},
   "outputs": [
    {
     "data": {
      "text/html": [
       "<div>\n",
       "<style scoped>\n",
       "    .dataframe tbody tr th:only-of-type {\n",
       "        vertical-align: middle;\n",
       "    }\n",
       "\n",
       "    .dataframe tbody tr th {\n",
       "        vertical-align: top;\n",
       "    }\n",
       "\n",
       "    .dataframe thead th {\n",
       "        text-align: right;\n",
       "    }\n",
       "</style>\n",
       "<table border=\"1\" class=\"dataframe\">\n",
       "  <thead>\n",
       "    <tr style=\"text-align: right;\">\n",
       "      <th></th>\n",
       "      <th>a</th>\n",
       "      <th>b</th>\n",
       "      <th>c</th>\n",
       "      <th>d</th>\n",
       "      <th>e</th>\n",
       "      <th>z</th>\n",
       "    </tr>\n",
       "  </thead>\n",
       "  <tbody>\n",
       "    <tr>\n",
       "      <td>a</td>\n",
       "      <td>0</td>\n",
       "      <td>4</td>\n",
       "      <td>2</td>\n",
       "      <td>0</td>\n",
       "      <td>0</td>\n",
       "      <td>0</td>\n",
       "    </tr>\n",
       "    <tr>\n",
       "      <td>b</td>\n",
       "      <td>4</td>\n",
       "      <td>0</td>\n",
       "      <td>1</td>\n",
       "      <td>5</td>\n",
       "      <td>0</td>\n",
       "      <td>0</td>\n",
       "    </tr>\n",
       "    <tr>\n",
       "      <td>c</td>\n",
       "      <td>2</td>\n",
       "      <td>1</td>\n",
       "      <td>0</td>\n",
       "      <td>8</td>\n",
       "      <td>10</td>\n",
       "      <td>0</td>\n",
       "    </tr>\n",
       "    <tr>\n",
       "      <td>d</td>\n",
       "      <td>0</td>\n",
       "      <td>5</td>\n",
       "      <td>8</td>\n",
       "      <td>0</td>\n",
       "      <td>2</td>\n",
       "      <td>6</td>\n",
       "    </tr>\n",
       "    <tr>\n",
       "      <td>e</td>\n",
       "      <td>0</td>\n",
       "      <td>0</td>\n",
       "      <td>10</td>\n",
       "      <td>2</td>\n",
       "      <td>0</td>\n",
       "      <td>3</td>\n",
       "    </tr>\n",
       "    <tr>\n",
       "      <td>z</td>\n",
       "      <td>0</td>\n",
       "      <td>0</td>\n",
       "      <td>0</td>\n",
       "      <td>6</td>\n",
       "      <td>3</td>\n",
       "      <td>0</td>\n",
       "    </tr>\n",
       "  </tbody>\n",
       "</table>\n",
       "</div>"
      ],
      "text/plain": [
       "   a  b   c  d   e  z\n",
       "a  0  4   2  0   0  0\n",
       "b  4  0   1  5   0  0\n",
       "c  2  1   0  8  10  0\n",
       "d  0  5   8  0   2  6\n",
       "e  0  0  10  2   0  3\n",
       "z  0  0   0  6   3  0"
      ]
     },
     "execution_count": 186,
     "metadata": {},
     "output_type": "execute_result"
    }
   ],
   "source": [
    "# this is the graph - represented in the form of an adjacency matrix with weights as values. \n",
    "# the row and column labels are the node names \n",
    "\n",
    "df = pd.DataFrame(index=['a', 'b', 'c', 'd', 'e', 'z'])\n",
    "\n",
    "df['a'] = np.array([0, 4, 2, 0, 0, 0])\n",
    "df['b'] = np.array([4, 0, 1, 5, 0, 0])\n",
    "df['c'] = np.array([2, 1, 0, 8, 10, 0])\n",
    "df['d'] = np.array([0, 5, 8, 0, 2, 6])\n",
    "df['e'] = np.array([0, 0, 10, 2, 0, 3])\n",
    "df['z'] = np.array([0, 0, 0, 6, 3, 0])\n",
    "\n",
    "df"
   ]
  },
  {
   "cell_type": "code",
   "execution_count": 187,
   "metadata": {},
   "outputs": [
    {
     "name": "stdout",
     "output_type": "stream",
     "text": [
      "\n"
     ]
    },
    {
     "name": "stdin",
     "output_type": "stream",
     "text": [
      "enter the start node:  a\n"
     ]
    },
    {
     "name": "stdout",
     "output_type": "stream",
     "text": [
      "\n"
     ]
    },
    {
     "name": "stdin",
     "output_type": "stream",
     "text": [
      "enter the terminal node:  z\n"
     ]
    },
    {
     "name": "stdout",
     "output_type": "stream",
     "text": [
      "\n"
     ]
    }
   ],
   "source": [
    "# run this block to enter the start and end node \n",
    "\n",
    "print()\n",
    "start = input(\"enter the start node: \")\n",
    "print()\n",
    "end = input(\"enter the terminal node: \")\n",
    "print()"
   ]
  },
  {
   "cell_type": "code",
   "execution_count": 193,
   "metadata": {},
   "outputs": [
    {
     "data": {
      "text/plain": [
       "{'c': 2, 'b': 3, 'd': 8, 'e': 10, 'z': 13}"
      ]
     },
     "execution_count": 193,
     "metadata": {},
     "output_type": "execute_result"
    }
   ],
   "source": [
    "u = start    # start node\n",
    "D = {}       # master dict keeping a track of all nodes traversed \n",
    "T = []       # master list keeping a track of all node names traversed\n",
    "T.append(u) \n",
    "\n",
    "# dictionary of all children nodes and their weights from a parent node.\n",
    "# L ==> key : parent node, value: dictionary of children nodes and their weights arising from parent node\n",
    "# each element of L is a dictionary - with key : node, value : weight from parent node to child node\n",
    "\n",
    "L = {}        \n",
    "i = 1   # iterator starting with 1\n",
    "\n",
    "L[i] = dict(df.loc[u, df.loc[u, :] > 0])   # dictionary of all paths from parent 'i' to child nodes\n",
    "num = df.loc[u, df.loc[u, :] > 0].min()    # the minimum path length (value) among child node edges\n",
    "u = df.loc[u, df.loc[u, :] > 0].idxmin()   # the index of the minimum edge child node\n",
    "T.append(u)                                # put that min index in master traversal array T\n",
    "D[u] = num                                 # this master dict keeps a track of how much we have traversed\n",
    "\n",
    "i += 1     # increment iterator with 1. \n",
    "\n",
    "# We ran the above code to initialize the first run, which is rather trivial\n",
    "\n",
    "while end not in T:                           # run while loop till terminal node is in traversal list\n",
    "    L[i] = dict(df.loc[u, df.loc[u, :] > 0])  # paths emerging from newly selected parent (which is\n",
    "                                              # the minimum path child node of previous iteration)\n",
    "    \n",
    "    for j in list(L[i].keys()):                    # loop through all child nodes of this new parent\n",
    "        if j in list(L[i-1].keys()) and j != u:      \n",
    "            if L[i-1][u] + df.loc[u][j] < L[i-1][j]:\n",
    "                L[i][j] = L[i-1][u] + df.loc[u][j]    # increment the path - traverse the path\n",
    "            else: \n",
    "                L[i][j] = L[i-1][j]                   # if old length is smaller, then don't traverse\n",
    "        elif j not in list(L[i-1].keys()):      \n",
    "            if L[i-1] == {}:\n",
    "                L[i][j] = L[i-2][u] + df.loc[u][j]    # traverse path for new nodes not in old list\n",
    "            elif L[i-1] != {}:\n",
    "                L[i][j] = L[i-1][u] + df.loc[u][j]\n",
    "            \n",
    "    for j in list(L[i].keys()):       \n",
    "        if j in T:\n",
    "            L[i].pop(j)                      # if nodes are already in traversed list, remove them\n",
    "            \n",
    "    if L[i] == {}:                           # if we get a node that cycles through to reach a previously\n",
    "                                             # traversed node, then we look at the previous iteration's\n",
    "                                             # second minimum path node\n",
    "        T.remove(u)\n",
    "        L[i-1].pop(u)\n",
    "        u = min(L[i-1], key=lambda k: L[i-1][k])   # minimum index/node of the corrected path\n",
    "        num = L[i-1][u]\n",
    "        T.append(u)\n",
    "        D[u] = num\n",
    "    elif L[i] != {}:\n",
    "        u = min(L[i], key=lambda k: L[i][k])\n",
    "        num = L[i][u]\n",
    "        T.append(u)\n",
    "        D[u] = num\n",
    "\n",
    "    i += 1                                   # increment iterator and continue with another while iter\n",
    "    \n",
    "D"
   ]
  },
  {
   "cell_type": "code",
   "execution_count": 194,
   "metadata": {},
   "outputs": [
    {
     "name": "stdout",
     "output_type": "stream",
     "text": [
      "shortest length path from a and z is:  13\n"
     ]
    }
   ],
   "source": [
    "# run this to get the shortest length path from start node to end node\n",
    "\n",
    "print('shortest length path from {} and {} is: '.format(start, end), D[end])"
   ]
  },
  {
   "cell_type": "code",
   "execution_count": null,
   "metadata": {},
   "outputs": [],
   "source": []
  }
 ],
 "metadata": {
  "kernelspec": {
   "display_name": "Python 3",
   "language": "python",
   "name": "python3"
  },
  "language_info": {
   "codemirror_mode": {
    "name": "ipython",
    "version": 3
   },
   "file_extension": ".py",
   "mimetype": "text/x-python",
   "name": "python",
   "nbconvert_exporter": "python",
   "pygments_lexer": "ipython3",
   "version": "3.8.8"
  }
 },
 "nbformat": 4,
 "nbformat_minor": 4
}
